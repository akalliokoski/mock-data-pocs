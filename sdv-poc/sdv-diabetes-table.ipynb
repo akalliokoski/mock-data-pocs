{
 "cells": [
  {
   "attachments": {},
   "cell_type": "markdown",
   "id": "7463cc99",
   "metadata": {},
   "source": [
    "# SDV PoC for diabetes dataset\n",
    "\n",
    "Using [Diabetes dataset](https://www.kaggle.com/datasets/mathchi/diabetes-data-set) for exploring very simple single table mock data use case."
   ]
  },
  {
   "attachments": {},
   "cell_type": "markdown",
   "id": "464f88ef",
   "metadata": {},
   "source": [
    "### Requirements\n",
    "\n",
    "As a **data engineer**, I should be able to specify what is already public to the data scientist and include only that information to the mock dataset.\n",
    "Let's specify **public data** for diabetes dataset:\n",
    "* Pregnancies: integer, mean 3.8, gamma distribution\n",
    "* Age: integer, between 18 and 100, gamma distribution\n",
    "* Outcome: boolean (0, 1), 35% true (1)\n",
    "* Other columns should be dropped."
   ]
  },
  {
   "attachments": {},
   "cell_type": "markdown",
   "id": "e7f560b5",
   "metadata": {},
   "source": [
    "### SDV features used\n",
    "SDV single table models:\n",
    "* [TabularPreset](https://sdv.dev/SDV/user_guides/single_table/tabular_preset.html) with and without constraints\n",
    "* [GaussianCopula](https://sdv.dev/SDV/user_guides/single_table/gaussian_copula.html) with constraints \n",
    "   * GaussianCopula supports specifying e.g. probability distributions\n",
    "\n",
    "Constraints:\n",
    " * Constraints can be used to specify rules that each row in the data should meet\n",
    " * Cannot be used to specify distributions\n",
    " * [ScalarRange](https://sdv.dev/SDV/user_guides/single_table/handling_constraints.html) constraint used for specifying the age range\n",
    "\n",
    "Distributions:\n",
    "* GaussianCopola supports specifying the distributions manually but in most cases the model will be able to find the optimal distribution on its own\n",
    "* [Gamma distribution](https://sdv.dev/SDV/user_guides/single_table/gaussian_copula.html#exploring-the-probability-distributions) specified for age and pregnancies GaussianCopula\n",
    "\n",
    "Conditional sampling:\n",
    "* [Conditional sampling](https://sdv.dev/SDV/user_guides/single_table/tabular_preset.html#conditional-sampling) used to specify the outcome distribution\n",
    "\n",
    "### SDV features **not** used\n",
    "* CTGAN, CopulaGAN and TVAE [models](https://sdv.dev/SDV/user_guides/single_table/models.html)\n",
    "* Relational features (obviously)\n",
    "* [Field and dtype transformers](https://sdv.dev/SDV/api_reference/metadata/api/sdv.metadata.table.Table.html#sdv-metadata-table-table)\n",
    "* [Field anonymization](https://sdv.dev/SDV/api_reference/metadata/api/sdv.metadata.table.Table.html#sdv-metadata-table-table) and [categorial types](https://sdv.dev/SDV/developer_guides/sdv/metadata.html#categorical-fields-data-anonymization) for anonymization with faker PII categories\n"
   ]
  },
  {
   "attachments": {},
   "cell_type": "markdown",
   "id": "5cb73a1e",
   "metadata": {},
   "source": [
    "### Diabetes data"
   ]
  },
  {
   "cell_type": "code",
   "execution_count": 359,
   "id": "21b39a5f-f704-490c-bbd8-8334acdbe5ff",
   "metadata": {
    "tags": []
   },
   "outputs": [],
   "source": [
    "import pandas as pd\n",
    "import matplotlib.pyplot as plt\n",
    "from sdv.lite import TabularPreset\n",
    "from sdv.tabular import GaussianCopula\n",
    "from sdv.metadata import Table\n",
    "from sdv.sampling.tabular import Condition"
   ]
  },
  {
   "cell_type": "code",
   "execution_count": 360,
   "id": "96fefbcc-f377-4410-884c-1f0d73ad07b0",
   "metadata": {
    "tags": []
   },
   "outputs": [
    {
     "data": {
      "text/html": [
       "<div>\n",
       "<style scoped>\n",
       "    .dataframe tbody tr th:only-of-type {\n",
       "        vertical-align: middle;\n",
       "    }\n",
       "\n",
       "    .dataframe tbody tr th {\n",
       "        vertical-align: top;\n",
       "    }\n",
       "\n",
       "    .dataframe thead th {\n",
       "        text-align: right;\n",
       "    }\n",
       "</style>\n",
       "<table border=\"1\" class=\"dataframe\">\n",
       "  <thead>\n",
       "    <tr style=\"text-align: right;\">\n",
       "      <th></th>\n",
       "      <th>Pregnancies</th>\n",
       "      <th>Glucose</th>\n",
       "      <th>BloodPressure</th>\n",
       "      <th>SkinThickness</th>\n",
       "      <th>Insulin</th>\n",
       "      <th>BMI</th>\n",
       "      <th>DiabetesPedigreeFunction</th>\n",
       "      <th>Age</th>\n",
       "      <th>Outcome</th>\n",
       "    </tr>\n",
       "  </thead>\n",
       "  <tbody>\n",
       "    <tr>\n",
       "      <th>0</th>\n",
       "      <td>6</td>\n",
       "      <td>148</td>\n",
       "      <td>72</td>\n",
       "      <td>35</td>\n",
       "      <td>0</td>\n",
       "      <td>33.6</td>\n",
       "      <td>0.627</td>\n",
       "      <td>50</td>\n",
       "      <td>1</td>\n",
       "    </tr>\n",
       "    <tr>\n",
       "      <th>1</th>\n",
       "      <td>1</td>\n",
       "      <td>85</td>\n",
       "      <td>66</td>\n",
       "      <td>29</td>\n",
       "      <td>0</td>\n",
       "      <td>26.6</td>\n",
       "      <td>0.351</td>\n",
       "      <td>31</td>\n",
       "      <td>0</td>\n",
       "    </tr>\n",
       "    <tr>\n",
       "      <th>2</th>\n",
       "      <td>8</td>\n",
       "      <td>183</td>\n",
       "      <td>64</td>\n",
       "      <td>0</td>\n",
       "      <td>0</td>\n",
       "      <td>23.3</td>\n",
       "      <td>0.672</td>\n",
       "      <td>32</td>\n",
       "      <td>1</td>\n",
       "    </tr>\n",
       "    <tr>\n",
       "      <th>3</th>\n",
       "      <td>1</td>\n",
       "      <td>89</td>\n",
       "      <td>66</td>\n",
       "      <td>23</td>\n",
       "      <td>94</td>\n",
       "      <td>28.1</td>\n",
       "      <td>0.167</td>\n",
       "      <td>21</td>\n",
       "      <td>0</td>\n",
       "    </tr>\n",
       "    <tr>\n",
       "      <th>4</th>\n",
       "      <td>0</td>\n",
       "      <td>137</td>\n",
       "      <td>40</td>\n",
       "      <td>35</td>\n",
       "      <td>168</td>\n",
       "      <td>43.1</td>\n",
       "      <td>2.288</td>\n",
       "      <td>33</td>\n",
       "      <td>1</td>\n",
       "    </tr>\n",
       "  </tbody>\n",
       "</table>\n",
       "</div>"
      ],
      "text/plain": [
       "   Pregnancies  Glucose  BloodPressure  SkinThickness  Insulin   BMI  \\\n",
       "0            6      148             72             35        0  33.6   \n",
       "1            1       85             66             29        0  26.6   \n",
       "2            8      183             64              0        0  23.3   \n",
       "3            1       89             66             23       94  28.1   \n",
       "4            0      137             40             35      168  43.1   \n",
       "\n",
       "   DiabetesPedigreeFunction  Age  Outcome  \n",
       "0                     0.627   50        1  \n",
       "1                     0.351   31        0  \n",
       "2                     0.672   32        1  \n",
       "3                     0.167   21        0  \n",
       "4                     2.288   33        1  "
      ]
     },
     "execution_count": 360,
     "metadata": {},
     "output_type": "execute_result"
    }
   ],
   "source": [
    "df = pd.read_csv(\"datasets/diabetes.csv\")\n",
    "df.head()"
   ]
  },
  {
   "cell_type": "code",
   "execution_count": 361,
   "id": "4852c6cb",
   "metadata": {},
   "outputs": [
    {
     "data": {
      "image/png": "[encoded data removed]",
      "text/plain": [
       "<Figure size 1000x500 with 3 Axes>"
      ]
     },
     "metadata": {},
     "output_type": "display_data"
    }
   ],
   "source": [
    "def plot_histograms(df, title):\n",
    "    fig, axs = plt.subplots(1, 3, figsize=(10, 5))\n",
    "\n",
    "    df['Pregnancies'].plot(kind='hist', bins=10, ax=axs[0])\n",
    "    axs[0].set_xlabel('Pregnancies')\n",
    "    axs[0].set_title('Histogram of Pregnancies')\n",
    "\n",
    "    df['Age'].plot(kind='hist', bins=10, ax=axs[1])\n",
    "    axs[1].set_xlabel('Age')\n",
    "    axs[1].set_title('Histogram of Age')\n",
    "\n",
    "    df['Outcome'].plot(kind='hist', bins=10, ax=axs[2])\n",
    "    axs[2].set_xlabel('Outcome')\n",
    "    axs[2].set_title('Histogram of Outcome')\n",
    "\n",
    "    plt.suptitle(title)\n",
    "    plt.show()\n",
    "\n",
    "plot_histograms(df, \"Real data\")"
   ]
  },
  {
   "cell_type": "code",
   "execution_count": 362,
   "id": "4680c6bb",
   "metadata": {},
   "outputs": [
    {
     "data": {
      "text/html": [
       "<div>\n",
       "<style scoped>\n",
       "    .dataframe tbody tr th:only-of-type {\n",
       "        vertical-align: middle;\n",
       "    }\n",
       "\n",
       "    .dataframe tbody tr th {\n",
       "        vertical-align: top;\n",
       "    }\n",
       "\n",
       "    .dataframe thead th {\n",
       "        text-align: right;\n",
       "    }\n",
       "</style>\n",
       "<table border=\"1\" class=\"dataframe\">\n",
       "  <thead>\n",
       "    <tr style=\"text-align: right;\">\n",
       "      <th></th>\n",
       "      <th>Pregnancies</th>\n",
       "      <th>Glucose</th>\n",
       "      <th>BloodPressure</th>\n",
       "      <th>SkinThickness</th>\n",
       "      <th>Insulin</th>\n",
       "      <th>BMI</th>\n",
       "      <th>DiabetesPedigreeFunction</th>\n",
       "      <th>Age</th>\n",
       "      <th>Outcome</th>\n",
       "    </tr>\n",
       "  </thead>\n",
       "  <tbody>\n",
       "    <tr>\n",
       "      <th>count</th>\n",
       "      <td>768.000000</td>\n",
       "      <td>768.000000</td>\n",
       "      <td>768.000000</td>\n",
       "      <td>768.000000</td>\n",
       "      <td>768.000000</td>\n",
       "      <td>768.000000</td>\n",
       "      <td>768.000000</td>\n",
       "      <td>768.000000</td>\n",
       "      <td>768.000000</td>\n",
       "    </tr>\n",
       "    <tr>\n",
       "      <th>mean</th>\n",
       "      <td>3.845052</td>\n",
       "      <td>120.894531</td>\n",
       "      <td>69.105469</td>\n",
       "      <td>20.536458</td>\n",
       "      <td>79.799479</td>\n",
       "      <td>31.992578</td>\n",
       "      <td>0.471876</td>\n",
       "      <td>33.240885</td>\n",
       "      <td>0.348958</td>\n",
       "    </tr>\n",
       "    <tr>\n",
       "      <th>std</th>\n",
       "      <td>3.369578</td>\n",
       "      <td>31.972618</td>\n",
       "      <td>19.355807</td>\n",
       "      <td>15.952218</td>\n",
       "      <td>115.244002</td>\n",
       "      <td>7.884160</td>\n",
       "      <td>0.331329</td>\n",
       "      <td>11.760232</td>\n",
       "      <td>0.476951</td>\n",
       "    </tr>\n",
       "    <tr>\n",
       "      <th>min</th>\n",
       "      <td>0.000000</td>\n",
       "      <td>0.000000</td>\n",
       "      <td>0.000000</td>\n",
       "      <td>0.000000</td>\n",
       "      <td>0.000000</td>\n",
       "      <td>0.000000</td>\n",
       "      <td>0.078000</td>\n",
       "      <td>21.000000</td>\n",
       "      <td>0.000000</td>\n",
       "    </tr>\n",
       "    <tr>\n",
       "      <th>25%</th>\n",
       "      <td>1.000000</td>\n",
       "      <td>99.000000</td>\n",
       "      <td>62.000000</td>\n",
       "      <td>0.000000</td>\n",
       "      <td>0.000000</td>\n",
       "      <td>27.300000</td>\n",
       "      <td>0.243750</td>\n",
       "      <td>24.000000</td>\n",
       "      <td>0.000000</td>\n",
       "    </tr>\n",
       "    <tr>\n",
       "      <th>50%</th>\n",
       "      <td>3.000000</td>\n",
       "      <td>117.000000</td>\n",
       "      <td>72.000000</td>\n",
       "      <td>23.000000</td>\n",
       "      <td>30.500000</td>\n",
       "      <td>32.000000</td>\n",
       "      <td>0.372500</td>\n",
       "      <td>29.000000</td>\n",
       "      <td>0.000000</td>\n",
       "    </tr>\n",
       "    <tr>\n",
       "      <th>75%</th>\n",
       "      <td>6.000000</td>\n",
       "      <td>140.250000</td>\n",
       "      <td>80.000000</td>\n",
       "      <td>32.000000</td>\n",
       "      <td>127.250000</td>\n",
       "      <td>36.600000</td>\n",
       "      <td>0.626250</td>\n",
       "      <td>41.000000</td>\n",
       "      <td>1.000000</td>\n",
       "    </tr>\n",
       "    <tr>\n",
       "      <th>max</th>\n",
       "      <td>17.000000</td>\n",
       "      <td>199.000000</td>\n",
       "      <td>122.000000</td>\n",
       "      <td>99.000000</td>\n",
       "      <td>846.000000</td>\n",
       "      <td>67.100000</td>\n",
       "      <td>2.420000</td>\n",
       "      <td>81.000000</td>\n",
       "      <td>1.000000</td>\n",
       "    </tr>\n",
       "  </tbody>\n",
       "</table>\n",
       "</div>"
      ],
      "text/plain": [
       "       Pregnancies     Glucose  BloodPressure  SkinThickness     Insulin  \\\n",
       "count   768.000000  768.000000     768.000000     768.000000  768.000000   \n",
       "mean      3.845052  120.894531      69.105469      20.536458   79.799479   \n",
       "std       3.369578   31.972618      19.355807      15.952218  115.244002   \n",
       "min       0.000000    0.000000       0.000000       0.000000    0.000000   \n",
       "25%       1.000000   99.000000      62.000000       0.000000    0.000000   \n",
       "50%       3.000000  117.000000      72.000000      23.000000   30.500000   \n",
       "75%       6.000000  140.250000      80.000000      32.000000  127.250000   \n",
       "max      17.000000  199.000000     122.000000      99.000000  846.000000   \n",
       "\n",
       "              BMI  DiabetesPedigreeFunction         Age     Outcome  \n",
       "count  768.000000                768.000000  768.000000  768.000000  \n",
       "mean    31.992578                  0.471876   33.240885    0.348958  \n",
       "std      7.884160                  0.331329   11.760232    0.476951  \n",
       "min      0.000000                  0.078000   21.000000    0.000000  \n",
       "25%     27.300000                  0.243750   24.000000    0.000000  \n",
       "50%     32.000000                  0.372500   29.000000    0.000000  \n",
       "75%     36.600000                  0.626250   41.000000    1.000000  \n",
       "max     67.100000                  2.420000   81.000000    1.000000  "
      ]
     },
     "execution_count": 362,
     "metadata": {},
     "output_type": "execute_result"
    }
   ],
   "source": [
    "df.describe()"
   ]
  },
  {
   "attachments": {},
   "cell_type": "markdown",
   "id": "b3021745",
   "metadata": {},
   "source": [
    "### Specify the table metadata"
   ]
  },
  {
   "cell_type": "code",
   "execution_count": 363,
   "id": "4b1e00eb-ece0-4a48-b8f7-6c919f546559",
   "metadata": {},
   "outputs": [],
   "source": [
    "from sdv.constraints import ScalarRange\n",
    "\n",
    "metadata_dict = {\n",
    "    \"fields\": {\n",
    "        \"Pregnancies\": {\"type\": \"numerical\", \"subtype\": \"integer\"},\n",
    "        \"Age\": {\"type\": \"numerical\", \"subtype\": \"integer\"},\n",
    "        \"Outcome\": {\"type\": \"boolean\"},\n",
    "    }\n",
    "}\n",
    "\n",
    "metadata_dict_with_constraints = dict(metadata_dict)\n",
    "age_between_18_100 = ScalarRange(column_name='Age', low_value=18, high_value=100, strict_boundaries=True)\n",
    "metadata_dict_with_constraints['constraints'] = [age_between_18_100]\n",
    "\n",
    "table_metadata = Table.from_dict(metadata_dict)\n",
    "table_metadata_with_constraints = Table.from_dict(metadata_dict_with_constraints)\n"
   ]
  },
  {
   "attachments": {},
   "cell_type": "markdown",
   "id": "4cee70b8",
   "metadata": {},
   "source": [
    "### Create models"
   ]
  },
  {
   "cell_type": "code",
   "execution_count": 364,
   "id": "53c39be9-ab5c-46cb-a7d4-d3ad5f5be50b",
   "metadata": {
    "tags": []
   },
   "outputs": [],
   "source": [
    "# Use the FAST_ML preset to optimize for modeling time\n",
    "model = TabularPreset(name=\"FAST_ML\", metadata=table_metadata)\n",
    "model_with_constraints = TabularPreset(name=\"FAST_ML\", metadata=table_metadata_with_constraints)\n",
    "\n",
    "# GaussianCopula, specify gamma distributions for age and pregnancies\n",
    "field_distributions={'Pregnancies': 'gamma', 'Age': 'gamma'}\n",
    "gc_model = GaussianCopula(table_metadata=table_metadata, field_distributions=field_distributions)\n",
    "gc_model_with_constraints = GaussianCopula(table_metadata=table_metadata_with_constraints, field_distributions=field_distributions)"
   ]
  },
  {
   "cell_type": "code",
   "execution_count": 365,
   "id": "7e1db84f-ff5a-4b62-bae9-bbc2128d447c",
   "metadata": {},
   "outputs": [
    {
     "name": "stderr",
     "output_type": "stream",
     "text": [
      "/Users/antti/.pyenv/versions/3.8.9/envs/mock-data-pocs/lib/python3.8/site-packages/sdv/lite/tabular.py:116: FutureWarning:\n",
      "\n",
      "iteritems is deprecated and will be removed in a future version. Use .items instead.\n",
      "\n"
     ]
    }
   ],
   "source": [
    "model.fit(df)\n",
    "model_with_constraints.fit(df)\n",
    "\n",
    "gc_model.fit(df)\n",
    "gc_model_with_constraints.fit(df)"
   ]
  },
  {
   "cell_type": "code",
   "execution_count": 366,
   "id": "3d40c37d",
   "metadata": {},
   "outputs": [],
   "source": [
    "model.save(\"models/diabetes_fast_ml.pkl\")\n",
    "model.save(\"models/diabetes_fast_ml_with_constraints.pkl\")\n",
    "model.save(\"models/diabetes_gaussiancopula.pkl\")\n",
    "model.save(\"models/diabetes_gaussiancopula_with_constraints.pkl\")"
   ]
  },
  {
   "attachments": {},
   "cell_type": "markdown",
   "id": "051bcc9d",
   "metadata": {},
   "source": [
    "### Explore distributions for GaussianCopula model\n"
   ]
  },
  {
   "cell_type": "code",
   "execution_count": 367,
   "id": "d7850197",
   "metadata": {},
   "outputs": [
    {
     "data": {
      "text/plain": [
       "{'Pregnancies': 'copulas.univariate.gamma.GammaUnivariate',\n",
       " 'Age': 'copulas.univariate.gamma.GammaUnivariate',\n",
       " 'Outcome': 'copulas.univariate.truncated_gaussian.TruncatedGaussian'}"
      ]
     },
     "execution_count": 367,
     "metadata": {},
     "output_type": "execute_result"
    }
   ],
   "source": [
    "gc_model.get_distributions()"
   ]
  },
  {
   "cell_type": "code",
   "execution_count": 368,
   "id": "fd4d8078",
   "metadata": {},
   "outputs": [
    {
     "data": {
      "text/plain": [
       "{'Pregnancies': 'copulas.univariate.gamma.GammaUnivariate',\n",
       " 'Outcome': 'copulas.univariate.truncated_gaussian.TruncatedGaussian',\n",
       " 'Age#18#100': 'copulas.univariate.truncated_gaussian.TruncatedGaussian'}"
      ]
     },
     "execution_count": 368,
     "metadata": {},
     "output_type": "execute_result"
    }
   ],
   "source": [
    "gc_model_with_constraints.get_distributions()"
   ]
  },
  {
   "attachments": {},
   "cell_type": "markdown",
   "id": "ae0de6df",
   "metadata": {},
   "source": [
    "**NOTE: gamma distribution was ignored for age with range constraint**"
   ]
  },
  {
   "attachments": {},
   "cell_type": "markdown",
   "id": "c235ee22",
   "metadata": {},
   "source": [
    "### Conditional sampling\n",
    "\n",
    "Use conditional sampling for specifying the outcome distribution."
   ]
  },
  {
   "cell_type": "code",
   "execution_count": null,
   "id": "c9cf73d7",
   "metadata": {},
   "outputs": [],
   "source": [
    "num_rows = 500\n",
    "outcome_true_probability = 0.35\n",
    "outcome_true_condition = Condition(column_values={'Outcome': 1}, num_rows=int(outcome_true_probability * num_rows))\n",
    "outcome_false_condition = Condition(column_values={'Outcome': 0}, num_rows=int((1-outcome_true_probability) * num_rows))\n",
    "\n",
    "synthetic_data = model.sample_conditions(conditions=[outcome_true_condition, outcome_false_condition])\n",
    "synthetic_data_with_constraints = model_with_constraints.sample_conditions(conditions=[outcome_true_condition, outcome_false_condition])\n",
    "\n",
    "synthetic_data_gc_with_constraints = model_with_constraints.sample_conditions(conditions=[outcome_true_condition, outcome_false_condition])"
   ]
  },
  {
   "cell_type": "code",
   "execution_count": 370,
   "id": "d2913840",
   "metadata": {},
   "outputs": [
    {
     "data": {
      "text/html": [
       "<div>\n",
       "<style scoped>\n",
       "    .dataframe tbody tr th:only-of-type {\n",
       "        vertical-align: middle;\n",
       "    }\n",
       "\n",
       "    .dataframe tbody tr th {\n",
       "        vertical-align: top;\n",
       "    }\n",
       "\n",
       "    .dataframe thead th {\n",
       "        text-align: right;\n",
       "    }\n",
       "</style>\n",
       "<table border=\"1\" class=\"dataframe\">\n",
       "  <thead>\n",
       "    <tr style=\"text-align: right;\">\n",
       "      <th></th>\n",
       "      <th>Pregnancies</th>\n",
       "      <th>Age</th>\n",
       "      <th>Outcome</th>\n",
       "    </tr>\n",
       "  </thead>\n",
       "  <tbody>\n",
       "    <tr>\n",
       "      <th>0</th>\n",
       "      <td>7</td>\n",
       "      <td>40</td>\n",
       "      <td>1</td>\n",
       "    </tr>\n",
       "    <tr>\n",
       "      <th>1</th>\n",
       "      <td>6</td>\n",
       "      <td>45</td>\n",
       "      <td>1</td>\n",
       "    </tr>\n",
       "    <tr>\n",
       "      <th>2</th>\n",
       "      <td>5</td>\n",
       "      <td>31</td>\n",
       "      <td>1</td>\n",
       "    </tr>\n",
       "    <tr>\n",
       "      <th>3</th>\n",
       "      <td>2</td>\n",
       "      <td>21</td>\n",
       "      <td>1</td>\n",
       "    </tr>\n",
       "    <tr>\n",
       "      <th>4</th>\n",
       "      <td>6</td>\n",
       "      <td>55</td>\n",
       "      <td>1</td>\n",
       "    </tr>\n",
       "  </tbody>\n",
       "</table>\n",
       "</div>"
      ],
      "text/plain": [
       "   Pregnancies  Age  Outcome\n",
       "0            7   40        1\n",
       "1            6   45        1\n",
       "2            5   31        1\n",
       "3            2   21        1\n",
       "4            6   55        1"
      ]
     },
     "execution_count": 370,
     "metadata": {},
     "output_type": "execute_result"
    }
   ],
   "source": [
    "assert synthetic_data.shape[1] == 3\n",
    "assert synthetic_data.shape[1] == synthetic_data_gc_with_constraints.shape[1]\n",
    "synthetic_data.head()"
   ]
  },
  {
   "attachments": {},
   "cell_type": "markdown",
   "id": "9ac2f0b3",
   "metadata": {},
   "source": [
    "### Evaluate with SDMetrics"
   ]
  },
  {
   "cell_type": "code",
   "execution_count": 371,
   "id": "0851b568",
   "metadata": {},
   "outputs": [
    {
     "name": "stderr",
     "output_type": "stream",
     "text": [
      "Creating report: 100%|██████████| 4/4 [00:00<00:00, 343.35it/s]"
     ]
    },
    {
     "name": "stdout",
     "output_type": "stream",
     "text": [
      "\n",
      "Overall Quality Score: 92.68%\n",
      "\n",
      "Properties:\n",
      "Column Shapes: 94.09%\n",
      "Column Pair Trends: 91.28%\n"
     ]
    },
    {
     "name": "stderr",
     "output_type": "stream",
     "text": [
      "\n"
     ]
    }
   ],
   "source": [
    "from sdmetrics.reports.single_table import QualityReport\n",
    "\n",
    "real_data = df[['Pregnancies', 'Age', 'Outcome']]\n",
    "report = QualityReport().generate(real_data=real_data, synthetic_data=synthetic_data, metadata=table_metadata.to_dict())"
   ]
  },
  {
   "cell_type": "code",
   "execution_count": 372,
   "id": "124ee4b6",
   "metadata": {},
   "outputs": [
    {
     "name": "stderr",
     "output_type": "stream",
     "text": [
      "Creating report: 100%|██████████| 4/4 [00:00<00:00, 357.04it/s]"
     ]
    },
    {
     "name": "stdout",
     "output_type": "stream",
     "text": [
      "\n",
      "Overall Quality Score: 91.78%\n",
      "\n",
      "Properties:\n",
      "Column Shapes: 94.53%\n",
      "Column Pair Trends: 89.03%\n"
     ]
    },
    {
     "name": "stderr",
     "output_type": "stream",
     "text": [
      "\n"
     ]
    }
   ],
   "source": [
    "report_with_constraints = QualityReport().generate(real_data=real_data, synthetic_data=synthetic_data_with_constraints, metadata=table_metadata_with_constraints.to_dict())"
   ]
  },
  {
   "cell_type": "code",
   "execution_count": 373,
   "id": "419e0862",
   "metadata": {},
   "outputs": [
    {
     "name": "stderr",
     "output_type": "stream",
     "text": [
      "Creating report: 100%|██████████| 4/4 [00:00<00:00, 367.54it/s]\n"
     ]
    },
    {
     "name": "stdout",
     "output_type": "stream",
     "text": [
      "\n",
      "Overall Quality Score: 91.02%\n",
      "\n",
      "Properties:\n",
      "Column Shapes: 93.36%\n",
      "Column Pair Trends: 88.67%\n"
     ]
    }
   ],
   "source": [
    "report_gc_with_constraints = QualityReport().generate(real_data=real_data, synthetic_data=synthetic_data_gc_with_constraints, metadata=table_metadata_with_constraints.to_dict())"
   ]
  },
  {
   "cell_type": "code",
   "execution_count": 374,
   "id": "f7b164be",
   "metadata": {},
   "outputs": [
    {
     "data": {
      "image/png": "[encoded data removed]",
      "text/plain": [
       "<Figure size 1000x500 with 3 Axes>"
      ]
     },
     "metadata": {},
     "output_type": "display_data"
    }
   ],
   "source": [
    "plot_histograms(synthetic_data, \"Synthetic data - TabularPreset\")"
   ]
  },
  {
   "cell_type": "code",
   "execution_count": 375,
   "id": "2204cb69",
   "metadata": {},
   "outputs": [
    {
     "data": {
      "image/png": "[encoded data removed]",
      "text/plain": [
       "<Figure size 1000x500 with 3 Axes>"
      ]
     },
     "metadata": {},
     "output_type": "display_data"
    }
   ],
   "source": [
    "plot_histograms(synthetic_data_gc_with_constraints, \"Synthetic data - GaussiaCopola with Constraints\")"
   ]
  },
  {
   "attachments": {},
   "cell_type": "markdown",
   "id": "94084e05",
   "metadata": {},
   "source": [
    "### Pregnancies mean"
   ]
  },
  {
   "cell_type": "code",
   "execution_count": 376,
   "id": "dfe8e7e6",
   "metadata": {},
   "outputs": [
    {
     "name": "stdout",
     "output_type": "stream",
     "text": [
      "TabularPreset: 3.79\n",
      "TabularPreset with constrains : 4.16\n",
      "GaussianCopula with constrains : 4.222\n"
     ]
    }
   ],
   "source": [
    "print(f\"\"\"TabularPreset: {synthetic_data['Pregnancies'].mean()}\n",
    "TabularPreset with constrains : {synthetic_data_with_constraints['Pregnancies'].mean()}\n",
    "GaussianCopula with constrains : {synthetic_data_gc_with_constraints['Pregnancies'].mean()}\"\"\")"
   ]
  },
  {
   "attachments": {},
   "cell_type": "markdown",
   "id": "30cb3921",
   "metadata": {},
   "source": [
    "### Conclusions\n",
    "\n",
    "* At least for this very simple use case, the models captured the requirements well even without manual specification (constraints, distributions etc.)\n",
    "* Specifying the constraints and distributions had very little impact on the quality scores\n",
    "* Constraints may slow down the synthetic data model & leak privacy\n",
    "   * as stated in the [documentation](https://sdv.dev/SDV/user_guides/single_table/handling_constraints.html#faqs), only add the constraint if you require 100% adherence\n",
    "* Requirements that were **not** met:\n",
    "   * **mean** of the pregnancies could not be specified directly\n",
    "      * models still captured the mean well, especially when constraints were not used\n"
   ]
  },
  {
   "cell_type": "markdown",
   "id": "44d97a10",
   "metadata": {},
   "source": []
  }
 ],
 "metadata": {
  "kernelspec": {
   "display_name": "mock-data-pocs",
   "language": "python",
   "name": "python3"
  },
  "language_info": {
   "codemirror_mode": {
    "name": "ipython",
    "version": 3
   },
   "file_extension": ".py",
   "mimetype": "text/x-python",
   "name": "python",
   "nbconvert_exporter": "python",
   "pygments_lexer": "ipython3",
   "version": "3.8.9"
  },
  "vscode": {
   "interpreter": {
    "hash": "d6884fa144fddc50c3389b754ef5ae70bde3471930ebed01974c6f8e6b493be7"
   }
  }
 },
 "nbformat": 4,
 "nbformat_minor": 5
}
